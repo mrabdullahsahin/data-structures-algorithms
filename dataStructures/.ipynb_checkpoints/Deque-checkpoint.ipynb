{
 "cells": [
  {
   "cell_type": "markdown",
   "metadata": {},
   "source": [
    "# Deque"
   ]
  },
  {
   "cell_type": "code",
   "execution_count": 1,
   "metadata": {},
   "outputs": [
    {
     "data": {
      "text/html": [
       "<img src=\"https://proxy.duckduckgo.com/iu/?u=https%3A%2F%2Fimage.slidesharecdn.com%2Fqueueasdatastructure-110829111515-phpapp01%2F95%2Fqueue-as-datastructure-25-728.jpg%3Fcb%3D1314616628&f=1\"/>"
      ],
      "text/plain": [
       "<IPython.core.display.Image object>"
      ]
     },
     "execution_count": 1,
     "metadata": {},
     "output_type": "execute_result"
    }
   ],
   "source": [
    "from IPython.display import Image\n",
    "Image(url= \"https://proxy.duckduckgo.com/iu/?u=https%3A%2F%2Fimage.slidesharecdn.com%2Fqueueasdatastructure-110829111515-phpapp01%2F95%2Fqueue-as-datastructure-25-728.jpg%3Fcb%3D1314616628&f=1\")"
   ]
  },
  {
   "cell_type": "code",
   "execution_count": 2,
   "metadata": {},
   "outputs": [],
   "source": [
    "class Deque:\n",
    "    \n",
    "    def __init__(self):\n",
    "        \"\"\"\n",
    "        \n",
    "        \"\"\"\n",
    "        self.items = []\n",
    "        \n",
    "    def isEmpty(self):\n",
    "        \"\"\"\n",
    "        \n",
    "        \"\"\"\n",
    "        return self.items == []\n",
    "    \n",
    "    def size(self):\n",
    "        \"\"\"\n",
    "        \n",
    "        \"\"\"\n",
    "        return len(self.items)\n",
    "    \n",
    "    def addFront(self,item):\n",
    "        \"\"\"\n",
    "        \n",
    "        \"\"\"\n",
    "        self.items.append(item)\n",
    "        \n",
    "    def addRear(self,item):\n",
    "        \"\"\"\n",
    "        \n",
    "        \"\"\"\n",
    "        self.items.insert(0,item)\n",
    "        \n",
    "    def removeFront(self):\n",
    "        \"\"\"\n",
    "        \n",
    "        \"\"\"\n",
    "        return self.items.pop()\n",
    "    \n",
    "    def removeRear(self):\n",
    "        \"\"\"\n",
    "        \n",
    "        \"\"\"\n",
    "        return self.items.pop(0)"
   ]
  },
  {
   "cell_type": "code",
   "execution_count": 3,
   "metadata": {},
   "outputs": [
    {
     "name": "stdout",
     "output_type": "stream",
     "text": [
      "True\n",
      "Size:  2\n",
      "True\n"
     ]
    }
   ],
   "source": [
    "deque = Deque()\n",
    "\n",
    "print(deque.isEmpty())\n",
    "deque.addFront(\"1\")\n",
    "deque.addRear(\"2\")\n",
    "print(\"Size: \",deque.size())\n",
    "deque.removeFront()\n",
    "deque.removeRear()\n",
    "print(deque.isEmpty())"
   ]
  }
 ],
 "metadata": {
  "kernelspec": {
   "display_name": "Python 3",
   "language": "python",
   "name": "python3"
  },
  "language_info": {
   "codemirror_mode": {
    "name": "ipython",
    "version": 3
   },
   "file_extension": ".py",
   "mimetype": "text/x-python",
   "name": "python",
   "nbconvert_exporter": "python",
   "pygments_lexer": "ipython3",
   "version": "3.6.5"
  }
 },
 "nbformat": 4,
 "nbformat_minor": 2
}
