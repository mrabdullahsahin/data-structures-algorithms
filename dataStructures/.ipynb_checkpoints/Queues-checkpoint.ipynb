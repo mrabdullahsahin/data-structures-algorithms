{
 "cells": [
  {
   "cell_type": "code",
   "execution_count": 4,
   "metadata": {},
   "outputs": [],
   "source": [
    "class Queue:\n",
    "    \n",
    "    def __init__(self):\n",
    "        \"\"\"\n",
    "        \n",
    "        \"\"\"\n",
    "        self.items = []\n",
    "        \n",
    "    def isEmpty(self):\n",
    "        \"\"\"\n",
    "        \n",
    "        \"\"\"\n",
    "        return self.items == []\n",
    "    \n",
    "    def enqueue(self,item):\n",
    "        \"\"\"\n",
    "        \n",
    "        \"\"\"\n",
    "        self.items.insert(0,item)\n",
    "    \n",
    "    def dequeue(self):\n",
    "        \"\"\"\n",
    "        \n",
    "        \"\"\"\n",
    "        return self.items.pop()\n",
    "    \n",
    "    def size(self):\n",
    "        \"\"\"\n",
    "        \n",
    "        \"\"\"\n",
    "        return len(self.items)"
   ]
  },
  {
   "cell_type": "code",
   "execution_count": 5,
   "metadata": {},
   "outputs": [
    {
     "name": "stdout",
     "output_type": "stream",
     "text": [
      "True\n",
      "Size:  1\n",
      "True\n"
     ]
    }
   ],
   "source": [
    "queue = Queue()\n",
    "\n",
    "print(queue.isEmpty())\n",
    "\n",
    "queue.enqueue(\"1\")\n",
    "print(\"Size: \",queue.size())\n",
    "\n",
    "queue.dequeue()\n",
    "print(queue.isEmpty())"
   ]
  }
 ],
 "metadata": {
  "kernelspec": {
   "display_name": "Python 3",
   "language": "python",
   "name": "python3"
  },
  "language_info": {
   "codemirror_mode": {
    "name": "ipython",
    "version": 3
   },
   "file_extension": ".py",
   "mimetype": "text/x-python",
   "name": "python",
   "nbconvert_exporter": "python",
   "pygments_lexer": "ipython3",
   "version": "3.6.5"
  }
 },
 "nbformat": 4,
 "nbformat_minor": 2
}
