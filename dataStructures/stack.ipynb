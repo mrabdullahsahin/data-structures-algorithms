{
 "cells": [
  {
   "cell_type": "markdown",
   "metadata": {},
   "source": [
    "# Stack\n",
    "\n",
    "About Stack:\n",
    "- https://visualgo.net/en/list\n",
    "- https://www.geeksforgeeks.org/stack-data-structure/"
   ]
  },
  {
   "cell_type": "code",
   "execution_count": 10,
   "metadata": {},
   "outputs": [],
   "source": [
    "class Stack:\n",
    "    \n",
    "    def __init__(self):\n",
    "        \"\"\"\n",
    "        initiliaze\n",
    "        \"\"\"\n",
    "        self.items = []\n",
    "        \n",
    "    def isEmpty(self):\n",
    "        \"\"\"\n",
    "        check stack is empty\n",
    "        \"\"\"\n",
    "        return self.items == []\n",
    "    \n",
    "    def push(self,item):\n",
    "        \"\"\"\n",
    "        add new item stack\n",
    "        \"\"\"\n",
    "        self.items.append(item)\n",
    "        \n",
    "    def pop(self):\n",
    "        \"\"\"\n",
    "        pop item\n",
    "        \"\"\"\n",
    "        return self.items.pop()\n",
    "    \n",
    "    def top(self):\n",
    "        \"\"\"\n",
    "        return top item\n",
    "        \"\"\"\n",
    "        return self.items[len(self.items)-1]\n",
    "    \n",
    "    def size(self):\n",
    "        \"\"\"\n",
    "        return size of stack\n",
    "        \"\"\"\n",
    "        return len(self.items)"
   ]
  },
  {
   "cell_type": "code",
   "execution_count": 9,
   "metadata": {},
   "outputs": [
    {
     "name": "stdout",
     "output_type": "stream",
     "text": [
      "True\n",
      "Stack Top:  A\n",
      "Stack Size:  1\n",
      "Stack Top:  B\n",
      "Stack Size:  2\n",
      "Stack Size:  3\n",
      "Stack Top:  B\n"
     ]
    }
   ],
   "source": [
    "stack = Stack()\n",
    "print(stack.isEmpty())\n",
    "\n",
    "stack.push(\"A\")\n",
    "print(\"Stack Top: \",stack.top())\n",
    "print(\"Stack Size: \",stack.size())\n",
    "\n",
    "stack.push(\"B\")\n",
    "print(\"Stack Top: \",stack.top())\n",
    "print(\"Stack Size: \",stack.size())\n",
    "\n",
    "stack.push(\"C\")\n",
    "print(\"Stack Size: \",stack.size())\n",
    "\n",
    "stack.pop()\n",
    "print(\"Stack Top: \",stack.top())"
   ]
  }
 ],
 "metadata": {
  "kernelspec": {
   "display_name": "Python 3",
   "language": "python",
   "name": "python3"
  },
  "language_info": {
   "codemirror_mode": {
    "name": "ipython",
    "version": 3
   },
   "file_extension": ".py",
   "mimetype": "text/x-python",
   "name": "python",
   "nbconvert_exporter": "python",
   "pygments_lexer": "ipython3",
   "version": "3.6.5"
  }
 },
 "nbformat": 4,
 "nbformat_minor": 2
}
