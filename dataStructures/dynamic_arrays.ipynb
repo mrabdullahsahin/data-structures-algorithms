{
 "cells": [
  {
   "cell_type": "markdown",
   "metadata": {},
   "source": [
    "# Dynamic Arrays\n",
    "\n",
    "About Dynamic Arrays: https://www.geeksforgeeks.org/implementation-of-dynamic-array-in-python/"
   ]
  },
  {
   "cell_type": "code",
   "execution_count": 14,
   "metadata": {},
   "outputs": [],
   "source": [
    "import ctypes\n",
    "\n",
    "class DynamicArrays(object):\n",
    "    \n",
    "    # initiliaze\n",
    "    def __init__(self):\n",
    "        self.n = 0 # number of element\n",
    "        self.capacity = 1\n",
    "        self.A = self.makeArray(self.capacity)\n",
    "        \n",
    "    def __len__(self):\n",
    "        \"\"\"\n",
    "        return dynamic arrays length\n",
    "        \"\"\"\n",
    "        return self.n\n",
    "    \n",
    "    def __getitem__(self,k):\n",
    "        \"\"\"\n",
    "        return selected item\n",
    "        \"\"\"\n",
    "        if not 0 <= k < self.n:\n",
    "            return IndexError(\"k is out of bounds\")\n",
    "        return self.A[k]\n",
    "    \n",
    "    def append(self,item):\n",
    "        \"\"\"\n",
    "        add new item\n",
    "        \"\"\"\n",
    "        if self.n == self.capacity:\n",
    "            self.resize(2*self.capacity)\n",
    "        \n",
    "        self.A[self.n] = item # add new item\n",
    "        self.n += 1 # add new one\n",
    "        \n",
    "    def resize(self,new_capacity):\n",
    "        \"\"\"\n",
    "        update array capacity\n",
    "        \"\"\"\n",
    "        B = self.makeArray(new_capacity)\n",
    "        \n",
    "        for k in range(self.n):\n",
    "            B[k] = self.A[k]\n",
    "            \n",
    "        self.A = B # update array\n",
    "        self.capacity = new_capacity # update capacity\n",
    "        \n",
    "    def makeArray(self,new_capacity):\n",
    "        \"\"\"\n",
    "        create array\n",
    "        \"\"\"\n",
    "        return (new_capacity*ctypes.py_object)()"
   ]
  },
  {
   "cell_type": "code",
   "execution_count": 15,
   "metadata": {},
   "outputs": [
    {
     "name": "stdout",
     "output_type": "stream",
     "text": [
      "1\n",
      "1 3\n",
      "1 3 5\n"
     ]
    }
   ],
   "source": [
    "# create new object\n",
    "arr = DynamicArrays()\n",
    "# append new item 1\n",
    "arr.append(1)\n",
    "print(arr[0])\n",
    "# append new item 1, 3\n",
    "arr.append(3)\n",
    "print(arr[0],arr[1])\n",
    "# append new item 1, 3, 5\n",
    "arr.append(5)\n",
    "print(arr[0],arr[1],arr[2])"
   ]
  }
 ],
 "metadata": {
  "kernelspec": {
   "display_name": "Python 3",
   "language": "python",
   "name": "python3"
  },
  "language_info": {
   "codemirror_mode": {
    "name": "ipython",
    "version": 3
   },
   "file_extension": ".py",
   "mimetype": "text/x-python",
   "name": "python",
   "nbconvert_exporter": "python",
   "pygments_lexer": "ipython3",
   "version": "3.6.5"
  }
 },
 "nbformat": 4,
 "nbformat_minor": 2
}
