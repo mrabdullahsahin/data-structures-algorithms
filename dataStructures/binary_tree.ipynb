{
 "cells": [
  {
   "cell_type": "markdown",
   "metadata": {},
   "source": [
    "# Binary Tree"
   ]
  },
  {
   "cell_type": "code",
   "execution_count": 1,
   "metadata": {},
   "outputs": [],
   "source": [
    "class Node:\n",
    "    \"\"\"\n",
    "    binary tree nodes\n",
    "    \"\"\"\n",
    "    def __init__(self,key):\n",
    "        \"\"\"\n",
    "        constructor\n",
    "        \"\"\"\n",
    "        self.val = key\n",
    "        self.right = None\n",
    "        self.left = None"
   ]
  },
  {
   "cell_type": "code",
   "execution_count": 2,
   "metadata": {},
   "outputs": [],
   "source": [
    "# create root\n",
    "root = Node(\"A\")\n",
    "root.left = Node(\"B\")\n",
    "root.left.left = Node(\"D\")\n",
    "root.right = Node(\"C\")"
   ]
  }
 ],
 "metadata": {
  "kernelspec": {
   "display_name": "Python 3",
   "language": "python",
   "name": "python3"
  },
  "language_info": {
   "codemirror_mode": {
    "name": "ipython",
    "version": 3
   },
   "file_extension": ".py",
   "mimetype": "text/x-python",
   "name": "python",
   "nbconvert_exporter": "python",
   "pygments_lexer": "ipython3",
   "version": "3.6.5"
  }
 },
 "nbformat": 4,
 "nbformat_minor": 2
}
