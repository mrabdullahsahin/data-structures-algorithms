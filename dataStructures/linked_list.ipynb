{
 "cells": [
  {
   "cell_type": "markdown",
   "metadata": {},
   "source": [
    "# Linked List"
   ]
  },
  {
   "cell_type": "code",
   "execution_count": 8,
   "metadata": {},
   "outputs": [
    {
     "data": {
      "text/html": [
       "<img src=\"https://www.techbookx.com/wp-content/uploads/2017/07/Singly-linked-list-and-doubly-linked-list-in-Java.jpg\"/>"
      ],
      "text/plain": [
       "<IPython.core.display.Image object>"
      ]
     },
     "execution_count": 8,
     "metadata": {},
     "output_type": "execute_result"
    }
   ],
   "source": [
    "from IPython.display import Image\n",
    "Image(url= \"https://www.techbookx.com/wp-content/uploads/2017/07/Singly-linked-list-and-doubly-linked-list-in-Java.jpg\")"
   ]
  },
  {
   "cell_type": "code",
   "execution_count": 3,
   "metadata": {},
   "outputs": [],
   "source": [
    "# singly linked list\n",
    "\n",
    "class Node(object):\n",
    "    \n",
    "    def __init__(self,value):\n",
    "        \"\"\"\n",
    "        \n",
    "        \"\"\"\n",
    "        self.value = value\n",
    "        self.nextnode = None\n",
    "        \n",
    "    def setNextNode(self,node):\n",
    "        \"\"\"\n",
    "        \n",
    "        \"\"\"\n",
    "        self.nextnode = node\n",
    "        \n",
    "    def getNextNode(self):\n",
    "        \"\"\"\n",
    "        \n",
    "        \"\"\"\n",
    "        return self.nextnode\n",
    "    \n",
    "    def getNodeValue(self):\n",
    "        \"\"\"\n",
    "        \n",
    "        \"\"\"\n",
    "        return self.value"
   ]
  },
  {
   "cell_type": "code",
   "execution_count": 7,
   "metadata": {},
   "outputs": [
    {
     "name": "stdout",
     "output_type": "stream",
     "text": [
      "Number1 Next Node:  2\n",
      "Number2 Next Node:  3\n",
      "Number1 Next Next Node:  3\n"
     ]
    }
   ],
   "source": [
    "number1 = Node(\"1\")\n",
    "number2 = Node(\"2\")\n",
    "number3 = Node(\"3\")\n",
    "\n",
    "number1.setNextNode(number2)\n",
    "print(\"Number1 Next Node: \",number1.getNextNode().getNodeValue())\n",
    "\n",
    "number2.setNextNode(number3)\n",
    "print(\"Number2 Next Node: \",number2.getNextNode().getNodeValue())\n",
    "\n",
    "print(\"Number1 Next Next Node: \",number1.getNextNode().getNextNode().getNodeValue())"
   ]
  },
  {
   "cell_type": "markdown",
   "metadata": {},
   "source": [
    "# Doubly Linked List"
   ]
  },
  {
   "cell_type": "code",
   "execution_count": 9,
   "metadata": {},
   "outputs": [],
   "source": [
    "class DoublyLinkedList(object):\n",
    "    \n",
    "    def __init__(self,value):\n",
    "        \"\"\"\n",
    "        \n",
    "        \"\"\"\n",
    "        self.value = value\n",
    "        self.nextnode = None\n",
    "        self.prevnode = None\n",
    "        \n",
    "    def setNextNode(self,node):\n",
    "        \"\"\"\n",
    "        \n",
    "        \"\"\"\n",
    "        self.nextnode = node\n",
    "        \n",
    "    def setPrevNode(self,node):\n",
    "        \"\"\"\n",
    "        \n",
    "        \"\"\"\n",
    "        self.prevnode = node\n",
    "        \n",
    "    def getNextNode(self):\n",
    "        \"\"\"\n",
    "        \n",
    "        \"\"\"\n",
    "        return self.nextnode\n",
    "    \n",
    "    def getPrevNode(self):\n",
    "        \"\"\"\n",
    "        \n",
    "        \"\"\"\n",
    "        return self.prevnode\n",
    "    \n",
    "    def getNodeValue(self):\n",
    "        \"\"\"\n",
    "        \n",
    "        \"\"\"\n",
    "        return self.value"
   ]
  },
  {
   "cell_type": "code",
   "execution_count": 11,
   "metadata": {},
   "outputs": [
    {
     "name": "stdout",
     "output_type": "stream",
     "text": [
      "Number2 Prev Node:  1\n",
      "Number1 Next Node:  2\n"
     ]
    }
   ],
   "source": [
    "number1 = DoublyLinkedList(\"1\")\n",
    "number2 = DoublyLinkedList(\"2\")\n",
    "number3 = DoublyLinkedList(\"3\")\n",
    "\n",
    "number1.setNextNode(number2)\n",
    "number2.setPrevNode(number1)\n",
    "\n",
    "print(\"Number2 Prev Node: \",number2.getPrevNode().getNodeValue())\n",
    "print(\"Number1 Next Node: \",number1.getNextNode().getNodeValue())"
   ]
  }
 ],
 "metadata": {
  "kernelspec": {
   "display_name": "Python 3",
   "language": "python",
   "name": "python3"
  },
  "language_info": {
   "codemirror_mode": {
    "name": "ipython",
    "version": 3
   },
   "file_extension": ".py",
   "mimetype": "text/x-python",
   "name": "python",
   "nbconvert_exporter": "python",
   "pygments_lexer": "ipython3",
   "version": "3.6.5"
  }
 },
 "nbformat": 4,
 "nbformat_minor": 2
}
