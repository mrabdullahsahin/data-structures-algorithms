{
 "cells": [
  {
   "cell_type": "markdown",
   "metadata": {},
   "source": [
    "# Quick Sort"
   ]
  },
  {
   "cell_type": "code",
   "execution_count": 1,
   "metadata": {},
   "outputs": [],
   "source": [
    "def quickSort(arr):\n",
    "    quick_sort_recursion(arr,0,len(arr)-1)\n",
    "    return arr\n",
    "\n",
    "def quick_sort_recursion(arr,first,last):\n",
    "    \n",
    "    if first < last:\n",
    "        \n",
    "        splitpoint = partition(arr,first,last)\n",
    "\n",
    "        quick_sort_recursion(arr,first,splitpoint - 1)\n",
    "        quick_sort_recursion(arr,splitpoint + 1,last)\n",
    "    \n",
    "def partition(arr,first,last):\n",
    "    pivotvalue = arr[first]\n",
    "    \n",
    "    left = first + 1\n",
    "    right = last\n",
    "    \n",
    "    done = False\n",
    "    \n",
    "    while not done:\n",
    "        \n",
    "        while left <= right and arr[left] <= pivotvalue:\n",
    "            left = left + 1\n",
    "        while arr[right] >= pivotvalue and right >= left:\n",
    "            right = right - 1\n",
    "            \n",
    "        if right < left:\n",
    "            done = True\n",
    "        else: \n",
    "            temp = arr[left]\n",
    "            arr[left] = arr[right]\n",
    "            arr[right] = temp\n",
    "        \n",
    "    temp = arr[first]\n",
    "    arr[first] = arr[right]\n",
    "    arr[right] = temp\n",
    "    \n",
    "    return right"
   ]
  },
  {
   "cell_type": "code",
   "execution_count": 2,
   "metadata": {},
   "outputs": [
    {
     "data": {
      "text/plain": [
       "[2, 3, 4, 4, 5, 6, 13, 734]"
      ]
     },
     "execution_count": 2,
     "metadata": {},
     "output_type": "execute_result"
    }
   ],
   "source": [
    "arr = [3,2,13,4,6,5,734,4]\n",
    "quickSort(arr)"
   ]
  }
 ],
 "metadata": {
  "kernelspec": {
   "display_name": "Python 3",
   "language": "python",
   "name": "python3"
  },
  "language_info": {
   "codemirror_mode": {
    "name": "ipython",
    "version": 3
   },
   "file_extension": ".py",
   "mimetype": "text/x-python",
   "name": "python",
   "nbconvert_exporter": "python",
   "pygments_lexer": "ipython3",
   "version": "3.6.5"
  }
 },
 "nbformat": 4,
 "nbformat_minor": 2
}
