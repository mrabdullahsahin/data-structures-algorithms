{
 "cells": [
  {
   "cell_type": "markdown",
   "metadata": {},
   "source": [
    "# Sequential (Linear) Search with Unordered List"
   ]
  },
  {
   "cell_type": "code",
   "execution_count": 3,
   "metadata": {},
   "outputs": [],
   "source": [
    "def sequentialSearchUnorderedList(liste, value):\n",
    "    \"\"\"\n",
    "    \"\"\"\n",
    "    index = 0\n",
    "    found = False\n",
    "    \n",
    "    while index < len(liste) and not found:\n",
    "        if liste[index] == value:\n",
    "            found = True\n",
    "        else:\n",
    "            index += 1\n",
    "    return (found,index)"
   ]
  },
  {
   "cell_type": "code",
   "execution_count": 5,
   "metadata": {},
   "outputs": [
    {
     "name": "stdout",
     "output_type": "stream",
     "text": [
      "Found: True, index: 5\n"
     ]
    }
   ],
   "source": [
    "liste = [5,7,2,3,15,9,60,19]\n",
    "found , index = sequentialSearchUnorderedList(liste,9)\n",
    "print(\"Found: {}, index: {}\".format(found,index))"
   ]
  },
  {
   "cell_type": "code",
   "execution_count": 6,
   "metadata": {},
   "outputs": [
    {
     "name": "stdout",
     "output_type": "stream",
     "text": [
      "Found: False, index: 8\n"
     ]
    }
   ],
   "source": [
    "found , index = sequentialSearchUnorderedList(liste,20)\n",
    "print(\"Found: {}, index: {}\".format(found,index))"
   ]
  }
 ],
 "metadata": {
  "kernelspec": {
   "display_name": "Python 3",
   "language": "python",
   "name": "python3"
  },
  "language_info": {
   "codemirror_mode": {
    "name": "ipython",
    "version": 3
   },
   "file_extension": ".py",
   "mimetype": "text/x-python",
   "name": "python",
   "nbconvert_exporter": "python",
   "pygments_lexer": "ipython3",
   "version": "3.6.5"
  }
 },
 "nbformat": 4,
 "nbformat_minor": 2
}
