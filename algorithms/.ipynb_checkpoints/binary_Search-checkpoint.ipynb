{
 "cells": [
  {
   "cell_type": "markdown",
   "metadata": {},
   "source": [
    "# Binary Search\n",
    "\n",
    "with ordered list"
   ]
  },
  {
   "cell_type": "code",
   "execution_count": 1,
   "metadata": {},
   "outputs": [],
   "source": [
    "def binarySearch(liste,value):\n",
    "    \"\"\"\n",
    "    \"\"\"\n",
    "    first_index = 0\n",
    "    last_index = len(liste) - 1\n",
    "    found = False\n",
    "    \n",
    "    while first_index <= last_index and not found:\n",
    "        \n",
    "        middle_index = int((first_index + last_index)/2)\n",
    "        \n",
    "        if liste[middle_index] == value:\n",
    "            found = True\n",
    "        else:\n",
    "            if value < liste[middle_index]:\n",
    "                last_index = middle_index -1\n",
    "                print(\"Lower\")\n",
    "            else:\n",
    "                first_index = middle_index + 1\n",
    "                print(\"Upper\")\n",
    "    return found"
   ]
  },
  {
   "cell_type": "code",
   "execution_count": 5,
   "metadata": {},
   "outputs": [
    {
     "name": "stdout",
     "output_type": "stream",
     "text": [
      "Lower\n",
      "Lower\n",
      "Lower\n"
     ]
    },
    {
     "data": {
      "text/plain": [
       "False"
      ]
     },
     "execution_count": 5,
     "metadata": {},
     "output_type": "execute_result"
    }
   ],
   "source": [
    "liste = [3,6,11,12,18,21,34]\n",
    "binarySearch(liste,2)"
   ]
  }
 ],
 "metadata": {
  "kernelspec": {
   "display_name": "Python 3",
   "language": "python",
   "name": "python3"
  },
  "language_info": {
   "codemirror_mode": {
    "name": "ipython",
    "version": 3
   },
   "file_extension": ".py",
   "mimetype": "text/x-python",
   "name": "python",
   "nbconvert_exporter": "python",
   "pygments_lexer": "ipython3",
   "version": "3.6.5"
  }
 },
 "nbformat": 4,
 "nbformat_minor": 2
}
