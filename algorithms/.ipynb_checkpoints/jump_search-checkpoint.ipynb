{
 "cells": [
  {
   "cell_type": "markdown",
   "metadata": {},
   "source": [
    "# Jump Search"
   ]
  },
  {
   "cell_type": "code",
   "execution_count": 3,
   "metadata": {},
   "outputs": [],
   "source": [
    "import math\n",
    "def jumpSearch(liste,value):\n",
    "    \"\"\"\n",
    "    \"\"\"\n",
    "    n = len(liste)\n",
    "    step = math.sqrt(n)\n",
    "    \n",
    "    prev = 0\n",
    "    \n",
    "    while liste[int(min(step,n))] < value:\n",
    "        prev = step\n",
    "        step += math.sqrt(n)\n",
    "        \n",
    "        if prev >= n:\n",
    "            return -1\n",
    "        \n",
    "        while liste[int(prev)] < value:\n",
    "            prev += 1\n",
    "            \n",
    "            if prev == min(step,n):\n",
    "                return -1 \n",
    "        \n",
    "        if liste[int(prev)] == value:\n",
    "            return int(prev)\n",
    "        \n",
    "        return -1"
   ]
  },
  {
   "cell_type": "code",
   "execution_count": 4,
   "metadata": {},
   "outputs": [
    {
     "data": {
      "text/plain": [
       "-1"
      ]
     },
     "execution_count": 4,
     "metadata": {},
     "output_type": "execute_result"
    }
   ],
   "source": [
    "liste = [0,1,2,3,4,5,6,7,8]\n",
    "jumpSearch(liste,21)"
   ]
  },
  {
   "cell_type": "code",
   "execution_count": 9,
   "metadata": {},
   "outputs": [],
   "source": [
    "liste = [0,1,2,3,4,5,6,7,8]\n",
    "jumpSearch(liste,3)"
   ]
  }
 ],
 "metadata": {
  "kernelspec": {
   "display_name": "Python 3",
   "language": "python",
   "name": "python3"
  },
  "language_info": {
   "codemirror_mode": {
    "name": "ipython",
    "version": 3
   },
   "file_extension": ".py",
   "mimetype": "text/x-python",
   "name": "python",
   "nbconvert_exporter": "python",
   "pygments_lexer": "ipython3",
   "version": "3.6.5"
  }
 },
 "nbformat": 4,
 "nbformat_minor": 2
}
