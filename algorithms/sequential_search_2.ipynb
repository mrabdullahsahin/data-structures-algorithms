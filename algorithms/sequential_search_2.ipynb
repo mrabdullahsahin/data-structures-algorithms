{
 "cells": [
  {
   "cell_type": "markdown",
   "metadata": {},
   "source": [
    "# Sequential (Linear) Search with Ordered List"
   ]
  },
  {
   "cell_type": "code",
   "execution_count": 3,
   "metadata": {},
   "outputs": [],
   "source": [
    " def sequentialSearchOrderedList(liste,value):\n",
    "        \"\"\"\n",
    "        \"\"\"\n",
    "        index = 0\n",
    "        found = False\n",
    "        stop = False\n",
    "        \n",
    "        while index < len(liste) and not found and not stop:\n",
    "            if liste[index] == value:\n",
    "                found = True\n",
    "            else:\n",
    "                if value < liste[index]:\n",
    "                    stop = True\n",
    "                else:\n",
    "                    index += 1\n",
    "        return (found,index)"
   ]
  },
  {
   "cell_type": "code",
   "execution_count": 4,
   "metadata": {},
   "outputs": [
    {
     "name": "stdout",
     "output_type": "stream",
     "text": [
      "Found: True, index: 3\n"
     ]
    }
   ],
   "source": [
    "liste = [2,3,4,5,6,12,50,15]\n",
    "found, index = sequentialSearchOrderedList(liste,5)\n",
    "print(\"Found: {}, index: {}\".format(found,index))"
   ]
  },
  {
   "cell_type": "code",
   "execution_count": 5,
   "metadata": {},
   "outputs": [
    {
     "name": "stdout",
     "output_type": "stream",
     "text": [
      "Found: False, index: 6\n"
     ]
    }
   ],
   "source": [
    "found, index = sequentialSearchOrderedList(liste,20)\n",
    "print(\"Found: {}, index: {}\".format(found,index))"
   ]
  }
 ],
 "metadata": {
  "kernelspec": {
   "display_name": "Python 3",
   "language": "python",
   "name": "python3"
  },
  "language_info": {
   "codemirror_mode": {
    "name": "ipython",
    "version": 3
   },
   "file_extension": ".py",
   "mimetype": "text/x-python",
   "name": "python",
   "nbconvert_exporter": "python",
   "pygments_lexer": "ipython3",
   "version": "3.6.5"
  }
 },
 "nbformat": 4,
 "nbformat_minor": 2
}
